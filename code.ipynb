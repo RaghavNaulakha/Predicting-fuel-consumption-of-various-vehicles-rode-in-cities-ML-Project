{
 "cells": [
  {
   "cell_type": "markdown",
   "id": "5226c997",
   "metadata": {},
   "source": [
    "# Importing Libraries"
   ]
  },
  {
   "cell_type": "code",
   "execution_count": 1,
   "id": "ae8be6ae",
   "metadata": {},
   "outputs": [],
   "source": [
    "import numpy as np\n",
    "import pandas as pd\n",
    "import statsmodels.api as sm\n",
    "from statsmodels.stats.outliers_influence import variance_inflation_factor\n",
    "from sklearn.compose import ColumnTransformer\n",
    "from sklearn.preprocessing import OneHotEncoder\n",
    "from sklearn.model_selection import train_test_split\n",
    "from sklearn.linear_model import LinearRegression\n",
    "from sklearn.ensemble import RandomForestRegressor\n",
    "from sklearn.metrics import r2_score,mean_squared_error"
   ]
  },
  {
   "cell_type": "markdown",
   "id": "2e3c2522",
   "metadata": {},
   "source": [
    "## Importing Dataset"
   ]
  },
  {
   "cell_type": "code",
   "execution_count": 2,
   "id": "35aedac5",
   "metadata": {},
   "outputs": [
    {
     "data": {
      "text/html": [
       "<div>\n",
       "<style scoped>\n",
       "    .dataframe tbody tr th:only-of-type {\n",
       "        vertical-align: middle;\n",
       "    }\n",
       "\n",
       "    .dataframe tbody tr th {\n",
       "        vertical-align: top;\n",
       "    }\n",
       "\n",
       "    .dataframe thead th {\n",
       "        text-align: right;\n",
       "    }\n",
       "</style>\n",
       "<table border=\"1\" class=\"dataframe\">\n",
       "  <thead>\n",
       "    <tr style=\"text-align: right;\">\n",
       "      <th></th>\n",
       "      <th>MPG</th>\n",
       "      <th>Cylinders</th>\n",
       "      <th>Displacement</th>\n",
       "      <th>Horsepower</th>\n",
       "      <th>Weight</th>\n",
       "      <th>Acceleration</th>\n",
       "      <th>Model Year</th>\n",
       "      <th>Origin</th>\n",
       "      <th>Car Name</th>\n",
       "    </tr>\n",
       "  </thead>\n",
       "  <tbody>\n",
       "    <tr>\n",
       "      <th>0</th>\n",
       "      <td>13.0</td>\n",
       "      <td>8</td>\n",
       "      <td>400.0</td>\n",
       "      <td>190</td>\n",
       "      <td>4422</td>\n",
       "      <td>12.5</td>\n",
       "      <td>72</td>\n",
       "      <td>1</td>\n",
       "      <td>chrysler newport royal</td>\n",
       "    </tr>\n",
       "    <tr>\n",
       "      <th>1</th>\n",
       "      <td>13.0</td>\n",
       "      <td>8</td>\n",
       "      <td>350.0</td>\n",
       "      <td>145</td>\n",
       "      <td>3988</td>\n",
       "      <td>13.0</td>\n",
       "      <td>73</td>\n",
       "      <td>1</td>\n",
       "      <td>chevrolet malibu</td>\n",
       "    </tr>\n",
       "    <tr>\n",
       "      <th>2</th>\n",
       "      <td>15.5</td>\n",
       "      <td>8</td>\n",
       "      <td>350.0</td>\n",
       "      <td>170</td>\n",
       "      <td>4165</td>\n",
       "      <td>11.4</td>\n",
       "      <td>77</td>\n",
       "      <td>1</td>\n",
       "      <td>chevrolet monte carlo landau</td>\n",
       "    </tr>\n",
       "    <tr>\n",
       "      <th>3</th>\n",
       "      <td>17.0</td>\n",
       "      <td>6</td>\n",
       "      <td>231.0</td>\n",
       "      <td>110</td>\n",
       "      <td>3907</td>\n",
       "      <td>21.0</td>\n",
       "      <td>75</td>\n",
       "      <td>1</td>\n",
       "      <td>buick century</td>\n",
       "    </tr>\n",
       "    <tr>\n",
       "      <th>4</th>\n",
       "      <td>13.0</td>\n",
       "      <td>8</td>\n",
       "      <td>318.0</td>\n",
       "      <td>150</td>\n",
       "      <td>3755</td>\n",
       "      <td>14.0</td>\n",
       "      <td>76</td>\n",
       "      <td>1</td>\n",
       "      <td>dodge d100</td>\n",
       "    </tr>\n",
       "    <tr>\n",
       "      <th>...</th>\n",
       "      <td>...</td>\n",
       "      <td>...</td>\n",
       "      <td>...</td>\n",
       "      <td>...</td>\n",
       "      <td>...</td>\n",
       "      <td>...</td>\n",
       "      <td>...</td>\n",
       "      <td>...</td>\n",
       "      <td>...</td>\n",
       "    </tr>\n",
       "    <tr>\n",
       "      <th>295</th>\n",
       "      <td>22.0</td>\n",
       "      <td>6</td>\n",
       "      <td>232.0</td>\n",
       "      <td>112</td>\n",
       "      <td>2835</td>\n",
       "      <td>14.7</td>\n",
       "      <td>82</td>\n",
       "      <td>1</td>\n",
       "      <td>ford granada l</td>\n",
       "    </tr>\n",
       "    <tr>\n",
       "      <th>296</th>\n",
       "      <td>18.0</td>\n",
       "      <td>6</td>\n",
       "      <td>250.0</td>\n",
       "      <td>78</td>\n",
       "      <td>3574</td>\n",
       "      <td>21.0</td>\n",
       "      <td>76</td>\n",
       "      <td>1</td>\n",
       "      <td>ford granada ghia</td>\n",
       "    </tr>\n",
       "    <tr>\n",
       "      <th>297</th>\n",
       "      <td>18.1</td>\n",
       "      <td>8</td>\n",
       "      <td>302.0</td>\n",
       "      <td>139</td>\n",
       "      <td>3205</td>\n",
       "      <td>11.2</td>\n",
       "      <td>78</td>\n",
       "      <td>1</td>\n",
       "      <td>ford futura</td>\n",
       "    </tr>\n",
       "    <tr>\n",
       "      <th>298</th>\n",
       "      <td>15.0</td>\n",
       "      <td>8</td>\n",
       "      <td>318.0</td>\n",
       "      <td>150</td>\n",
       "      <td>4135</td>\n",
       "      <td>13.5</td>\n",
       "      <td>72</td>\n",
       "      <td>1</td>\n",
       "      <td>plymouth fury iii</td>\n",
       "    </tr>\n",
       "    <tr>\n",
       "      <th>299</th>\n",
       "      <td>40.9</td>\n",
       "      <td>4</td>\n",
       "      <td>85.0</td>\n",
       "      <td>?</td>\n",
       "      <td>1835</td>\n",
       "      <td>17.3</td>\n",
       "      <td>80</td>\n",
       "      <td>2</td>\n",
       "      <td>renault lecar deluxe</td>\n",
       "    </tr>\n",
       "  </tbody>\n",
       "</table>\n",
       "<p>300 rows × 9 columns</p>\n",
       "</div>"
      ],
      "text/plain": [
       "      MPG  Cylinders  Displacement Horsepower  Weight  Acceleration  \\\n",
       "0    13.0          8         400.0        190    4422          12.5   \n",
       "1    13.0          8         350.0        145    3988          13.0   \n",
       "2    15.5          8         350.0        170    4165          11.4   \n",
       "3    17.0          6         231.0        110    3907          21.0   \n",
       "4    13.0          8         318.0        150    3755          14.0   \n",
       "..    ...        ...           ...        ...     ...           ...   \n",
       "295  22.0          6         232.0        112    2835          14.7   \n",
       "296  18.0          6         250.0         78    3574          21.0   \n",
       "297  18.1          8         302.0        139    3205          11.2   \n",
       "298  15.0          8         318.0        150    4135          13.5   \n",
       "299  40.9          4          85.0          ?    1835          17.3   \n",
       "\n",
       "     Model Year  Origin                      Car Name  \n",
       "0            72       1        chrysler newport royal  \n",
       "1            73       1              chevrolet malibu  \n",
       "2            77       1  chevrolet monte carlo landau  \n",
       "3            75       1                 buick century  \n",
       "4            76       1                    dodge d100  \n",
       "..          ...     ...                           ...  \n",
       "295          82       1                ford granada l  \n",
       "296          76       1             ford granada ghia  \n",
       "297          78       1                   ford futura  \n",
       "298          72       1             plymouth fury iii  \n",
       "299          80       2          renault lecar deluxe  \n",
       "\n",
       "[300 rows x 9 columns]"
      ]
     },
     "execution_count": 2,
     "metadata": {},
     "output_type": "execute_result"
    }
   ],
   "source": [
    "df = pd.read_csv(\"competition_edu_dataset.csv\")\n",
    "df"
   ]
  },
  {
   "cell_type": "code",
   "execution_count": 3,
   "id": "8a5500f9",
   "metadata": {},
   "outputs": [
    {
     "data": {
      "text/plain": [
       "<bound method DataFrame.info of       MPG  Cylinders  Displacement Horsepower  Weight  Acceleration  \\\n",
       "0    13.0          8         400.0        190    4422          12.5   \n",
       "1    13.0          8         350.0        145    3988          13.0   \n",
       "2    15.5          8         350.0        170    4165          11.4   \n",
       "3    17.0          6         231.0        110    3907          21.0   \n",
       "4    13.0          8         318.0        150    3755          14.0   \n",
       "..    ...        ...           ...        ...     ...           ...   \n",
       "295  22.0          6         232.0        112    2835          14.7   \n",
       "296  18.0          6         250.0         78    3574          21.0   \n",
       "297  18.1          8         302.0        139    3205          11.2   \n",
       "298  15.0          8         318.0        150    4135          13.5   \n",
       "299  40.9          4          85.0          ?    1835          17.3   \n",
       "\n",
       "     Model Year  Origin                      Car Name  \n",
       "0            72       1        chrysler newport royal  \n",
       "1            73       1              chevrolet malibu  \n",
       "2            77       1  chevrolet monte carlo landau  \n",
       "3            75       1                 buick century  \n",
       "4            76       1                    dodge d100  \n",
       "..          ...     ...                           ...  \n",
       "295          82       1                ford granada l  \n",
       "296          76       1             ford granada ghia  \n",
       "297          78       1                   ford futura  \n",
       "298          72       1             plymouth fury iii  \n",
       "299          80       2          renault lecar deluxe  \n",
       "\n",
       "[300 rows x 9 columns]>"
      ]
     },
     "execution_count": 3,
     "metadata": {},
     "output_type": "execute_result"
    }
   ],
   "source": [
    "df.info"
   ]
  },
  {
   "cell_type": "code",
   "execution_count": 4,
   "id": "66ed8ed7",
   "metadata": {},
   "outputs": [],
   "source": [
    "# Converting all the '?' with the mean of their respective columns\n",
    "df.Horsepower = df.Horsepower.str.replace('?','NaN', regex = False).astype(float)\n",
    "df.Horsepower.fillna(df.Horsepower.mean(),inplace = True)\n",
    "df.Horsepower = df.Horsepower.astype(int)"
   ]
  },
  {
   "cell_type": "code",
   "execution_count": 5,
   "id": "c10d1d90",
   "metadata": {
    "scrolled": true
   },
   "outputs": [
    {
     "data": {
      "text/html": [
       "<div>\n",
       "<style scoped>\n",
       "    .dataframe tbody tr th:only-of-type {\n",
       "        vertical-align: middle;\n",
       "    }\n",
       "\n",
       "    .dataframe tbody tr th {\n",
       "        vertical-align: top;\n",
       "    }\n",
       "\n",
       "    .dataframe thead th {\n",
       "        text-align: right;\n",
       "    }\n",
       "</style>\n",
       "<table border=\"1\" class=\"dataframe\">\n",
       "  <thead>\n",
       "    <tr style=\"text-align: right;\">\n",
       "      <th></th>\n",
       "      <th>MPG</th>\n",
       "      <th>Cylinders</th>\n",
       "      <th>Displacement</th>\n",
       "      <th>Horsepower</th>\n",
       "      <th>Weight</th>\n",
       "      <th>Acceleration</th>\n",
       "      <th>Model Year</th>\n",
       "      <th>Origin</th>\n",
       "    </tr>\n",
       "  </thead>\n",
       "  <tbody>\n",
       "    <tr>\n",
       "      <th>0</th>\n",
       "      <td>13.0</td>\n",
       "      <td>8</td>\n",
       "      <td>400.0</td>\n",
       "      <td>190</td>\n",
       "      <td>4422</td>\n",
       "      <td>12.5</td>\n",
       "      <td>72</td>\n",
       "      <td>1</td>\n",
       "    </tr>\n",
       "    <tr>\n",
       "      <th>1</th>\n",
       "      <td>13.0</td>\n",
       "      <td>8</td>\n",
       "      <td>350.0</td>\n",
       "      <td>145</td>\n",
       "      <td>3988</td>\n",
       "      <td>13.0</td>\n",
       "      <td>73</td>\n",
       "      <td>1</td>\n",
       "    </tr>\n",
       "    <tr>\n",
       "      <th>2</th>\n",
       "      <td>15.5</td>\n",
       "      <td>8</td>\n",
       "      <td>350.0</td>\n",
       "      <td>170</td>\n",
       "      <td>4165</td>\n",
       "      <td>11.4</td>\n",
       "      <td>77</td>\n",
       "      <td>1</td>\n",
       "    </tr>\n",
       "    <tr>\n",
       "      <th>3</th>\n",
       "      <td>17.0</td>\n",
       "      <td>6</td>\n",
       "      <td>231.0</td>\n",
       "      <td>110</td>\n",
       "      <td>3907</td>\n",
       "      <td>21.0</td>\n",
       "      <td>75</td>\n",
       "      <td>1</td>\n",
       "    </tr>\n",
       "    <tr>\n",
       "      <th>4</th>\n",
       "      <td>13.0</td>\n",
       "      <td>8</td>\n",
       "      <td>318.0</td>\n",
       "      <td>150</td>\n",
       "      <td>3755</td>\n",
       "      <td>14.0</td>\n",
       "      <td>76</td>\n",
       "      <td>1</td>\n",
       "    </tr>\n",
       "    <tr>\n",
       "      <th>...</th>\n",
       "      <td>...</td>\n",
       "      <td>...</td>\n",
       "      <td>...</td>\n",
       "      <td>...</td>\n",
       "      <td>...</td>\n",
       "      <td>...</td>\n",
       "      <td>...</td>\n",
       "      <td>...</td>\n",
       "    </tr>\n",
       "    <tr>\n",
       "      <th>295</th>\n",
       "      <td>22.0</td>\n",
       "      <td>6</td>\n",
       "      <td>232.0</td>\n",
       "      <td>112</td>\n",
       "      <td>2835</td>\n",
       "      <td>14.7</td>\n",
       "      <td>82</td>\n",
       "      <td>1</td>\n",
       "    </tr>\n",
       "    <tr>\n",
       "      <th>296</th>\n",
       "      <td>18.0</td>\n",
       "      <td>6</td>\n",
       "      <td>250.0</td>\n",
       "      <td>78</td>\n",
       "      <td>3574</td>\n",
       "      <td>21.0</td>\n",
       "      <td>76</td>\n",
       "      <td>1</td>\n",
       "    </tr>\n",
       "    <tr>\n",
       "      <th>297</th>\n",
       "      <td>18.1</td>\n",
       "      <td>8</td>\n",
       "      <td>302.0</td>\n",
       "      <td>139</td>\n",
       "      <td>3205</td>\n",
       "      <td>11.2</td>\n",
       "      <td>78</td>\n",
       "      <td>1</td>\n",
       "    </tr>\n",
       "    <tr>\n",
       "      <th>298</th>\n",
       "      <td>15.0</td>\n",
       "      <td>8</td>\n",
       "      <td>318.0</td>\n",
       "      <td>150</td>\n",
       "      <td>4135</td>\n",
       "      <td>13.5</td>\n",
       "      <td>72</td>\n",
       "      <td>1</td>\n",
       "    </tr>\n",
       "    <tr>\n",
       "      <th>299</th>\n",
       "      <td>40.9</td>\n",
       "      <td>4</td>\n",
       "      <td>85.0</td>\n",
       "      <td>104</td>\n",
       "      <td>1835</td>\n",
       "      <td>17.3</td>\n",
       "      <td>80</td>\n",
       "      <td>2</td>\n",
       "    </tr>\n",
       "  </tbody>\n",
       "</table>\n",
       "<p>300 rows × 8 columns</p>\n",
       "</div>"
      ],
      "text/plain": [
       "      MPG  Cylinders  Displacement  Horsepower  Weight  Acceleration  \\\n",
       "0    13.0          8         400.0         190    4422          12.5   \n",
       "1    13.0          8         350.0         145    3988          13.0   \n",
       "2    15.5          8         350.0         170    4165          11.4   \n",
       "3    17.0          6         231.0         110    3907          21.0   \n",
       "4    13.0          8         318.0         150    3755          14.0   \n",
       "..    ...        ...           ...         ...     ...           ...   \n",
       "295  22.0          6         232.0         112    2835          14.7   \n",
       "296  18.0          6         250.0          78    3574          21.0   \n",
       "297  18.1          8         302.0         139    3205          11.2   \n",
       "298  15.0          8         318.0         150    4135          13.5   \n",
       "299  40.9          4          85.0         104    1835          17.3   \n",
       "\n",
       "     Model Year  Origin  \n",
       "0            72       1  \n",
       "1            73       1  \n",
       "2            77       1  \n",
       "3            75       1  \n",
       "4            76       1  \n",
       "..          ...     ...  \n",
       "295          82       1  \n",
       "296          76       1  \n",
       "297          78       1  \n",
       "298          72       1  \n",
       "299          80       2  \n",
       "\n",
       "[300 rows x 8 columns]"
      ]
     },
     "execution_count": 5,
     "metadata": {},
     "output_type": "execute_result"
    }
   ],
   "source": [
    "df = df.drop(\"Car Name\",axis = 1)\n",
    "df"
   ]
  },
  {
   "cell_type": "code",
   "execution_count": 6,
   "id": "81cef61f",
   "metadata": {},
   "outputs": [
    {
     "name": "stdout",
     "output_type": "stream",
     "text": [
      "sum of duplicated values: 0\n",
      "\n",
      "sum of null values: MPG             0\n",
      "Cylinders       0\n",
      "Displacement    0\n",
      "Horsepower      0\n",
      "Weight          0\n",
      "Acceleration    0\n",
      "Model Year      0\n",
      "Origin          0\n",
      "dtype: int64\n"
     ]
    }
   ],
   "source": [
    "# Checking duplicates and null values\n",
    "print('sum of duplicated values: {}\\n'.format(df.duplicated().sum()))\n",
    "print('sum of null values: {}'.format(df.isnull().sum()))\n"
   ]
  },
  {
   "cell_type": "code",
   "execution_count": 7,
   "id": "a6a3dbea",
   "metadata": {},
   "outputs": [
    {
     "data": {
      "text/html": [
       "<div>\n",
       "<style scoped>\n",
       "    .dataframe tbody tr th:only-of-type {\n",
       "        vertical-align: middle;\n",
       "    }\n",
       "\n",
       "    .dataframe tbody tr th {\n",
       "        vertical-align: top;\n",
       "    }\n",
       "\n",
       "    .dataframe thead th {\n",
       "        text-align: right;\n",
       "    }\n",
       "</style>\n",
       "<table border=\"1\" class=\"dataframe\">\n",
       "  <thead>\n",
       "    <tr style=\"text-align: right;\">\n",
       "      <th></th>\n",
       "      <th>MPG</th>\n",
       "      <th>Cylinders</th>\n",
       "      <th>Displacement</th>\n",
       "      <th>Horsepower</th>\n",
       "      <th>Weight</th>\n",
       "      <th>Acceleration</th>\n",
       "      <th>Model Year</th>\n",
       "      <th>Origin</th>\n",
       "    </tr>\n",
       "  </thead>\n",
       "  <tbody>\n",
       "    <tr>\n",
       "      <th>count</th>\n",
       "      <td>300.000000</td>\n",
       "      <td>300.000000</td>\n",
       "      <td>300.000000</td>\n",
       "      <td>300.000000</td>\n",
       "      <td>300.000000</td>\n",
       "      <td>300.000000</td>\n",
       "      <td>300.000000</td>\n",
       "      <td>300.000000</td>\n",
       "    </tr>\n",
       "    <tr>\n",
       "      <th>mean</th>\n",
       "      <td>23.679333</td>\n",
       "      <td>5.430000</td>\n",
       "      <td>192.118333</td>\n",
       "      <td>104.350000</td>\n",
       "      <td>2952.820000</td>\n",
       "      <td>15.567000</td>\n",
       "      <td>76.043333</td>\n",
       "      <td>1.563333</td>\n",
       "    </tr>\n",
       "    <tr>\n",
       "      <th>std</th>\n",
       "      <td>7.803218</td>\n",
       "      <td>1.703361</td>\n",
       "      <td>104.711230</td>\n",
       "      <td>38.064645</td>\n",
       "      <td>836.196298</td>\n",
       "      <td>2.811469</td>\n",
       "      <td>3.782744</td>\n",
       "      <td>0.792517</td>\n",
       "    </tr>\n",
       "    <tr>\n",
       "      <th>min</th>\n",
       "      <td>9.000000</td>\n",
       "      <td>3.000000</td>\n",
       "      <td>68.000000</td>\n",
       "      <td>46.000000</td>\n",
       "      <td>1613.000000</td>\n",
       "      <td>8.000000</td>\n",
       "      <td>70.000000</td>\n",
       "      <td>1.000000</td>\n",
       "    </tr>\n",
       "    <tr>\n",
       "      <th>25%</th>\n",
       "      <td>17.000000</td>\n",
       "      <td>4.000000</td>\n",
       "      <td>98.000000</td>\n",
       "      <td>75.750000</td>\n",
       "      <td>2219.750000</td>\n",
       "      <td>13.875000</td>\n",
       "      <td>73.000000</td>\n",
       "      <td>1.000000</td>\n",
       "    </tr>\n",
       "    <tr>\n",
       "      <th>50%</th>\n",
       "      <td>23.000000</td>\n",
       "      <td>4.000000</td>\n",
       "      <td>144.500000</td>\n",
       "      <td>94.000000</td>\n",
       "      <td>2789.500000</td>\n",
       "      <td>15.500000</td>\n",
       "      <td>76.000000</td>\n",
       "      <td>1.000000</td>\n",
       "    </tr>\n",
       "    <tr>\n",
       "      <th>75%</th>\n",
       "      <td>29.000000</td>\n",
       "      <td>8.000000</td>\n",
       "      <td>263.250000</td>\n",
       "      <td>125.000000</td>\n",
       "      <td>3565.750000</td>\n",
       "      <td>17.125000</td>\n",
       "      <td>79.000000</td>\n",
       "      <td>2.000000</td>\n",
       "    </tr>\n",
       "    <tr>\n",
       "      <th>max</th>\n",
       "      <td>44.600000</td>\n",
       "      <td>8.000000</td>\n",
       "      <td>455.000000</td>\n",
       "      <td>230.000000</td>\n",
       "      <td>5140.000000</td>\n",
       "      <td>24.800000</td>\n",
       "      <td>82.000000</td>\n",
       "      <td>3.000000</td>\n",
       "    </tr>\n",
       "  </tbody>\n",
       "</table>\n",
       "</div>"
      ],
      "text/plain": [
       "              MPG   Cylinders  Displacement  Horsepower       Weight  \\\n",
       "count  300.000000  300.000000    300.000000  300.000000   300.000000   \n",
       "mean    23.679333    5.430000    192.118333  104.350000  2952.820000   \n",
       "std      7.803218    1.703361    104.711230   38.064645   836.196298   \n",
       "min      9.000000    3.000000     68.000000   46.000000  1613.000000   \n",
       "25%     17.000000    4.000000     98.000000   75.750000  2219.750000   \n",
       "50%     23.000000    4.000000    144.500000   94.000000  2789.500000   \n",
       "75%     29.000000    8.000000    263.250000  125.000000  3565.750000   \n",
       "max     44.600000    8.000000    455.000000  230.000000  5140.000000   \n",
       "\n",
       "       Acceleration  Model Year      Origin  \n",
       "count    300.000000  300.000000  300.000000  \n",
       "mean      15.567000   76.043333    1.563333  \n",
       "std        2.811469    3.782744    0.792517  \n",
       "min        8.000000   70.000000    1.000000  \n",
       "25%       13.875000   73.000000    1.000000  \n",
       "50%       15.500000   76.000000    1.000000  \n",
       "75%       17.125000   79.000000    2.000000  \n",
       "max       24.800000   82.000000    3.000000  "
      ]
     },
     "execution_count": 7,
     "metadata": {},
     "output_type": "execute_result"
    }
   ],
   "source": [
    "df.describe()"
   ]
  },
  {
   "cell_type": "code",
   "execution_count": 8,
   "id": "2ab854c8",
   "metadata": {},
   "outputs": [
    {
     "data": {
      "text/plain": [
       "const           778.530178\n",
       "MPG               5.738554\n",
       "Cylinders        11.682240\n",
       "Displacement     24.478012\n",
       "Horsepower        9.195574\n",
       "Weight           12.498465\n",
       "Acceleration      2.575253\n",
       "Model Year        1.975163\n",
       "Origin            1.825230\n",
       "dtype: float64"
      ]
     },
     "execution_count": 8,
     "metadata": {},
     "output_type": "execute_result"
    }
   ],
   "source": [
    "# Checking multicollinearity using Variance Inflation Factor\n",
    "# A variable/feature affected by multicollinearity will have a value greater than 10\n",
    "x1 = sm.tools.add_constant(df) \n",
    "\n",
    "series1 = pd.Series([variance_inflation_factor(x1.values,i) for i in range(x1.shape[1])],\n",
    "                  index = x1.columns)\n",
    "\n",
    "series1"
   ]
  },
  {
   "cell_type": "code",
   "execution_count": 9,
   "id": "3eafa51c",
   "metadata": {},
   "outputs": [
    {
     "data": {
      "text/plain": [
       "const           696.413687\n",
       "MPG               3.992778\n",
       "Horsepower        4.234574\n",
       "Acceleration      2.076946\n",
       "Model Year        1.615907\n",
       "Origin            1.550678\n",
       "dtype: float64"
      ]
     },
     "execution_count": 9,
     "metadata": {},
     "output_type": "execute_result"
    }
   ],
   "source": [
    "# Doing Feature Selection to get rid of the multicollinearity by dropping 'Cylinder','Displacement','Weight' \n",
    "# since they have VIF value greater than 10'\n",
    "\n",
    "df1 = df.drop(['Cylinders','Displacement','Weight'],axis = 1)\n",
    "#df1['Car Name'] = Car Name\n",
    "x2 = sm.tools.add_constant(df1)\n",
    "\n",
    "series2 = pd.Series([variance_inflation_factor(x2.values,i) for i in range(x2.shape[1])],\n",
    "                  index = x2.columns)\n",
    "\n",
    "series2"
   ]
  },
  {
   "cell_type": "code",
   "execution_count": 10,
   "id": "07b98607",
   "metadata": {},
   "outputs": [],
   "source": [
    "# Preparing Dataset for Training\n",
    "x = df1.drop(\"MPG\",axis = 1)\n",
    "y = df1.MPG"
   ]
  },
  {
   "cell_type": "code",
   "execution_count": 11,
   "id": "592209ca",
   "metadata": {},
   "outputs": [
    {
     "data": {
      "text/html": [
       "<div>\n",
       "<style scoped>\n",
       "    .dataframe tbody tr th:only-of-type {\n",
       "        vertical-align: middle;\n",
       "    }\n",
       "\n",
       "    .dataframe tbody tr th {\n",
       "        vertical-align: top;\n",
       "    }\n",
       "\n",
       "    .dataframe thead th {\n",
       "        text-align: right;\n",
       "    }\n",
       "</style>\n",
       "<table border=\"1\" class=\"dataframe\">\n",
       "  <thead>\n",
       "    <tr style=\"text-align: right;\">\n",
       "      <th></th>\n",
       "      <th>Horsepower</th>\n",
       "      <th>Acceleration</th>\n",
       "      <th>Model Year</th>\n",
       "      <th>Origin</th>\n",
       "    </tr>\n",
       "  </thead>\n",
       "  <tbody>\n",
       "    <tr>\n",
       "      <th>0</th>\n",
       "      <td>190</td>\n",
       "      <td>12.5</td>\n",
       "      <td>72</td>\n",
       "      <td>1</td>\n",
       "    </tr>\n",
       "    <tr>\n",
       "      <th>1</th>\n",
       "      <td>145</td>\n",
       "      <td>13.0</td>\n",
       "      <td>73</td>\n",
       "      <td>1</td>\n",
       "    </tr>\n",
       "    <tr>\n",
       "      <th>2</th>\n",
       "      <td>170</td>\n",
       "      <td>11.4</td>\n",
       "      <td>77</td>\n",
       "      <td>1</td>\n",
       "    </tr>\n",
       "    <tr>\n",
       "      <th>3</th>\n",
       "      <td>110</td>\n",
       "      <td>21.0</td>\n",
       "      <td>75</td>\n",
       "      <td>1</td>\n",
       "    </tr>\n",
       "    <tr>\n",
       "      <th>4</th>\n",
       "      <td>150</td>\n",
       "      <td>14.0</td>\n",
       "      <td>76</td>\n",
       "      <td>1</td>\n",
       "    </tr>\n",
       "    <tr>\n",
       "      <th>...</th>\n",
       "      <td>...</td>\n",
       "      <td>...</td>\n",
       "      <td>...</td>\n",
       "      <td>...</td>\n",
       "    </tr>\n",
       "    <tr>\n",
       "      <th>295</th>\n",
       "      <td>112</td>\n",
       "      <td>14.7</td>\n",
       "      <td>82</td>\n",
       "      <td>1</td>\n",
       "    </tr>\n",
       "    <tr>\n",
       "      <th>296</th>\n",
       "      <td>78</td>\n",
       "      <td>21.0</td>\n",
       "      <td>76</td>\n",
       "      <td>1</td>\n",
       "    </tr>\n",
       "    <tr>\n",
       "      <th>297</th>\n",
       "      <td>139</td>\n",
       "      <td>11.2</td>\n",
       "      <td>78</td>\n",
       "      <td>1</td>\n",
       "    </tr>\n",
       "    <tr>\n",
       "      <th>298</th>\n",
       "      <td>150</td>\n",
       "      <td>13.5</td>\n",
       "      <td>72</td>\n",
       "      <td>1</td>\n",
       "    </tr>\n",
       "    <tr>\n",
       "      <th>299</th>\n",
       "      <td>104</td>\n",
       "      <td>17.3</td>\n",
       "      <td>80</td>\n",
       "      <td>2</td>\n",
       "    </tr>\n",
       "  </tbody>\n",
       "</table>\n",
       "<p>300 rows × 4 columns</p>\n",
       "</div>"
      ],
      "text/plain": [
       "     Horsepower  Acceleration  Model Year  Origin\n",
       "0           190          12.5          72       1\n",
       "1           145          13.0          73       1\n",
       "2           170          11.4          77       1\n",
       "3           110          21.0          75       1\n",
       "4           150          14.0          76       1\n",
       "..          ...           ...         ...     ...\n",
       "295         112          14.7          82       1\n",
       "296          78          21.0          76       1\n",
       "297         139          11.2          78       1\n",
       "298         150          13.5          72       1\n",
       "299         104          17.3          80       2\n",
       "\n",
       "[300 rows x 4 columns]"
      ]
     },
     "execution_count": 11,
     "metadata": {},
     "output_type": "execute_result"
    }
   ],
   "source": [
    "x"
   ]
  },
  {
   "cell_type": "code",
   "execution_count": 12,
   "id": "8448cef5",
   "metadata": {},
   "outputs": [
    {
     "data": {
      "text/plain": [
       "0      13.0\n",
       "1      13.0\n",
       "2      15.5\n",
       "3      17.0\n",
       "4      13.0\n",
       "       ... \n",
       "295    22.0\n",
       "296    18.0\n",
       "297    18.1\n",
       "298    15.0\n",
       "299    40.9\n",
       "Name: MPG, Length: 300, dtype: float64"
      ]
     },
     "execution_count": 12,
     "metadata": {},
     "output_type": "execute_result"
    }
   ],
   "source": [
    "y"
   ]
  },
  {
   "cell_type": "markdown",
   "id": "db9c9537",
   "metadata": {},
   "source": [
    "## Encoding Categorical Data"
   ]
  },
  {
   "cell_type": "code",
   "execution_count": 13,
   "id": "b625395d",
   "metadata": {},
   "outputs": [
    {
     "data": {
      "text/html": [
       "<style>#sk-container-id-1 {color: black;background-color: white;}#sk-container-id-1 pre{padding: 0;}#sk-container-id-1 div.sk-toggleable {background-color: white;}#sk-container-id-1 label.sk-toggleable__label {cursor: pointer;display: block;width: 100%;margin-bottom: 0;padding: 0.3em;box-sizing: border-box;text-align: center;}#sk-container-id-1 label.sk-toggleable__label-arrow:before {content: \"▸\";float: left;margin-right: 0.25em;color: #696969;}#sk-container-id-1 label.sk-toggleable__label-arrow:hover:before {color: black;}#sk-container-id-1 div.sk-estimator:hover label.sk-toggleable__label-arrow:before {color: black;}#sk-container-id-1 div.sk-toggleable__content {max-height: 0;max-width: 0;overflow: hidden;text-align: left;background-color: #f0f8ff;}#sk-container-id-1 div.sk-toggleable__content pre {margin: 0.2em;color: black;border-radius: 0.25em;background-color: #f0f8ff;}#sk-container-id-1 input.sk-toggleable__control:checked~div.sk-toggleable__content {max-height: 200px;max-width: 100%;overflow: auto;}#sk-container-id-1 input.sk-toggleable__control:checked~label.sk-toggleable__label-arrow:before {content: \"▾\";}#sk-container-id-1 div.sk-estimator input.sk-toggleable__control:checked~label.sk-toggleable__label {background-color: #d4ebff;}#sk-container-id-1 div.sk-label input.sk-toggleable__control:checked~label.sk-toggleable__label {background-color: #d4ebff;}#sk-container-id-1 input.sk-hidden--visually {border: 0;clip: rect(1px 1px 1px 1px);clip: rect(1px, 1px, 1px, 1px);height: 1px;margin: -1px;overflow: hidden;padding: 0;position: absolute;width: 1px;}#sk-container-id-1 div.sk-estimator {font-family: monospace;background-color: #f0f8ff;border: 1px dotted black;border-radius: 0.25em;box-sizing: border-box;margin-bottom: 0.5em;}#sk-container-id-1 div.sk-estimator:hover {background-color: #d4ebff;}#sk-container-id-1 div.sk-parallel-item::after {content: \"\";width: 100%;border-bottom: 1px solid gray;flex-grow: 1;}#sk-container-id-1 div.sk-label:hover label.sk-toggleable__label {background-color: #d4ebff;}#sk-container-id-1 div.sk-serial::before {content: \"\";position: absolute;border-left: 1px solid gray;box-sizing: border-box;top: 0;bottom: 0;left: 50%;z-index: 0;}#sk-container-id-1 div.sk-serial {display: flex;flex-direction: column;align-items: center;background-color: white;padding-right: 0.2em;padding-left: 0.2em;position: relative;}#sk-container-id-1 div.sk-item {position: relative;z-index: 1;}#sk-container-id-1 div.sk-parallel {display: flex;align-items: stretch;justify-content: center;background-color: white;position: relative;}#sk-container-id-1 div.sk-item::before, #sk-container-id-1 div.sk-parallel-item::before {content: \"\";position: absolute;border-left: 1px solid gray;box-sizing: border-box;top: 0;bottom: 0;left: 50%;z-index: -1;}#sk-container-id-1 div.sk-parallel-item {display: flex;flex-direction: column;z-index: 1;position: relative;background-color: white;}#sk-container-id-1 div.sk-parallel-item:first-child::after {align-self: flex-end;width: 50%;}#sk-container-id-1 div.sk-parallel-item:last-child::after {align-self: flex-start;width: 50%;}#sk-container-id-1 div.sk-parallel-item:only-child::after {width: 0;}#sk-container-id-1 div.sk-dashed-wrapped {border: 1px dashed gray;margin: 0 0.4em 0.5em 0.4em;box-sizing: border-box;padding-bottom: 0.4em;background-color: white;}#sk-container-id-1 div.sk-label label {font-family: monospace;font-weight: bold;display: inline-block;line-height: 1.2em;}#sk-container-id-1 div.sk-label-container {text-align: center;}#sk-container-id-1 div.sk-container {/* jupyter's `normalize.less` sets `[hidden] { display: none; }` but bootstrap.min.css set `[hidden] { display: none !important; }` so we also need the `!important` here to be able to override the default hidden behavior on the sphinx rendered scikit-learn.org. See: https://github.com/scikit-learn/scikit-learn/issues/21755 */display: inline-block !important;position: relative;}#sk-container-id-1 div.sk-text-repr-fallback {display: none;}</style><div id=\"sk-container-id-1\" class=\"sk-top-container\"><div class=\"sk-text-repr-fallback\"><pre>ColumnTransformer(remainder=&#x27;passthrough&#x27;,\n",
       "                  transformers=[(&#x27;encoder&#x27;, OneHotEncoder(), [3])])</pre><b>In a Jupyter environment, please rerun this cell to show the HTML representation or trust the notebook. <br />On GitHub, the HTML representation is unable to render, please try loading this page with nbviewer.org.</b></div><div class=\"sk-container\" hidden><div class=\"sk-item sk-dashed-wrapped\"><div class=\"sk-label-container\"><div class=\"sk-label sk-toggleable\"><input class=\"sk-toggleable__control sk-hidden--visually\" id=\"sk-estimator-id-1\" type=\"checkbox\" ><label for=\"sk-estimator-id-1\" class=\"sk-toggleable__label sk-toggleable__label-arrow\">ColumnTransformer</label><div class=\"sk-toggleable__content\"><pre>ColumnTransformer(remainder=&#x27;passthrough&#x27;,\n",
       "                  transformers=[(&#x27;encoder&#x27;, OneHotEncoder(), [3])])</pre></div></div></div><div class=\"sk-parallel\"><div class=\"sk-parallel-item\"><div class=\"sk-item\"><div class=\"sk-label-container\"><div class=\"sk-label sk-toggleable\"><input class=\"sk-toggleable__control sk-hidden--visually\" id=\"sk-estimator-id-2\" type=\"checkbox\" ><label for=\"sk-estimator-id-2\" class=\"sk-toggleable__label sk-toggleable__label-arrow\">encoder</label><div class=\"sk-toggleable__content\"><pre>[3]</pre></div></div></div><div class=\"sk-serial\"><div class=\"sk-item\"><div class=\"sk-estimator sk-toggleable\"><input class=\"sk-toggleable__control sk-hidden--visually\" id=\"sk-estimator-id-3\" type=\"checkbox\" ><label for=\"sk-estimator-id-3\" class=\"sk-toggleable__label sk-toggleable__label-arrow\">OneHotEncoder</label><div class=\"sk-toggleable__content\"><pre>OneHotEncoder()</pre></div></div></div></div></div></div><div class=\"sk-parallel-item\"><div class=\"sk-item\"><div class=\"sk-label-container\"><div class=\"sk-label sk-toggleable\"><input class=\"sk-toggleable__control sk-hidden--visually\" id=\"sk-estimator-id-4\" type=\"checkbox\" ><label for=\"sk-estimator-id-4\" class=\"sk-toggleable__label sk-toggleable__label-arrow\">remainder</label><div class=\"sk-toggleable__content\"><pre></pre></div></div></div><div class=\"sk-serial\"><div class=\"sk-item\"><div class=\"sk-estimator sk-toggleable\"><input class=\"sk-toggleable__control sk-hidden--visually\" id=\"sk-estimator-id-5\" type=\"checkbox\" ><label for=\"sk-estimator-id-5\" class=\"sk-toggleable__label sk-toggleable__label-arrow\">passthrough</label><div class=\"sk-toggleable__content\"><pre>passthrough</pre></div></div></div></div></div></div></div></div></div></div>"
      ],
      "text/plain": [
       "ColumnTransformer(remainder='passthrough',\n",
       "                  transformers=[('encoder', OneHotEncoder(), [3])])"
      ]
     },
     "execution_count": 13,
     "metadata": {},
     "output_type": "execute_result"
    }
   ],
   "source": [
    "ct = ColumnTransformer(transformers = [('encoder', OneHotEncoder(), [3])],  remainder = 'passthrough')\n",
    "ct\n"
   ]
  },
  {
   "cell_type": "code",
   "execution_count": 14,
   "id": "a7dfc53d",
   "metadata": {},
   "outputs": [],
   "source": [
    "x_scaled = np.array(ct.fit_transform(x))"
   ]
  },
  {
   "cell_type": "code",
   "execution_count": 15,
   "id": "155985d9",
   "metadata": {},
   "outputs": [
    {
     "data": {
      "text/plain": [
       "array([[  1. ,   0. ,   0. , 190. ,  12.5,  72. ],\n",
       "       [  1. ,   0. ,   0. , 145. ,  13. ,  73. ],\n",
       "       [  1. ,   0. ,   0. , 170. ,  11.4,  77. ],\n",
       "       ...,\n",
       "       [  1. ,   0. ,   0. , 139. ,  11.2,  78. ],\n",
       "       [  1. ,   0. ,   0. , 150. ,  13.5,  72. ],\n",
       "       [  0. ,   1. ,   0. , 104. ,  17.3,  80. ]])"
      ]
     },
     "execution_count": 15,
     "metadata": {},
     "output_type": "execute_result"
    }
   ],
   "source": [
    "x_scaled"
   ]
  },
  {
   "cell_type": "markdown",
   "id": "90d6849b",
   "metadata": {},
   "source": [
    "## Splitting Dataset into Training dataset and Test dataset"
   ]
  },
  {
   "cell_type": "code",
   "execution_count": 16,
   "id": "0ef92eca",
   "metadata": {},
   "outputs": [],
   "source": [
    "x_train,x_test,y_train,y_test = train_test_split(x_scaled,y,test_size = .3,random_state = 0)"
   ]
  },
  {
   "cell_type": "code",
   "execution_count": 17,
   "id": "76e58faa",
   "metadata": {},
   "outputs": [
    {
     "data": {
      "text/plain": [
       "array([[  1. ,   0. ,   0. , 198. ,  10. ,  70. ],\n",
       "       [  0. ,   1. ,   0. ,  54. ,  23.5,  72. ],\n",
       "       [  1. ,   0. ,   0. ,  84. ,  12.9,  81. ],\n",
       "       ...,\n",
       "       [  0. ,   0. ,   1. ,  61. ,  19. ,  74. ],\n",
       "       [  0. ,   1. ,   0. , 104. ,  15.8,  81. ],\n",
       "       [  1. ,   0. ,   0. , 150. ,  11.5,  73. ]])"
      ]
     },
     "execution_count": 17,
     "metadata": {},
     "output_type": "execute_result"
    }
   ],
   "source": [
    "x_train"
   ]
  },
  {
   "cell_type": "code",
   "execution_count": 18,
   "id": "d49f8004",
   "metadata": {},
   "outputs": [
    {
     "data": {
      "text/plain": [
       "282    15.0\n",
       "44     23.0\n",
       "272    30.0\n",
       "189    28.0\n",
       "152    35.7\n",
       "       ... \n",
       "251    15.0\n",
       "192    34.1\n",
       "117    32.0\n",
       "47     34.5\n",
       "172    14.0\n",
       "Name: MPG, Length: 210, dtype: float64"
      ]
     },
     "execution_count": 18,
     "metadata": {},
     "output_type": "execute_result"
    }
   ],
   "source": [
    "y_train"
   ]
  },
  {
   "cell_type": "code",
   "execution_count": 19,
   "id": "fbd72f12",
   "metadata": {},
   "outputs": [
    {
     "data": {
      "text/plain": [
       "array([[  0. ,   0. ,   1. ,  70. ,  16.8,  77. ],\n",
       "       [  1. ,   0. ,   0. , 170. ,  10. ,  70. ],\n",
       "       [  1. ,   0. ,   0. , 175. ,  12. ,  71. ],\n",
       "       [  1. ,   0. ,   0. , 110. ,  18. ,  74. ],\n",
       "       [  1. ,   0. ,   0. , 225. ,  10. ,  70. ],\n",
       "       [  0. ,   0. ,   1. ,  67. ,  13.8,  80. ],\n",
       "       [  0. ,   0. ,   1. ,  70. ,  17. ,  76. ],\n",
       "       [  1. ,   0. ,   0. , 230. ,   9.5,  73. ],\n",
       "       [  0. ,   1. ,   0. ,  90. ,  15.5,  73. ],\n",
       "       [  1. ,   0. ,   0. , 100. ,  15. ,  71. ],\n",
       "       [  0. ,   0. ,   1. ,  96. ,  13.9,  82. ],\n",
       "       [  1. ,   0. ,   0. , 145. ,  14. ,  75. ],\n",
       "       [  1. ,   0. ,   0. ,  88. ,  18.6,  82. ],\n",
       "       [  0. ,   1. ,   0. ,  60. ,  19. ,  71. ],\n",
       "       [  0. ,   1. ,   0. ,  67. ,  19.9,  80. ],\n",
       "       [  1. ,   0. ,   0. ,  63. ,  14.7,  82. ],\n",
       "       [  0. ,   1. ,   0. , 110. ,  12.8,  77. ],\n",
       "       [  1. ,   0. ,   0. , 100. ,  13. ,  71. ],\n",
       "       [  0. ,   0. ,   1. ,  88. ,  14.5,  70. ],\n",
       "       [  1. ,   0. ,   0. ,  85. ,  18.5,  73. ],\n",
       "       [  1. ,   0. ,   0. ,  79. ,  17.7,  76. ],\n",
       "       [  0. ,   1. ,   0. , 113. ,  12.5,  70. ],\n",
       "       [  1. ,   0. ,   0. , 190. ,  12.2,  77. ],\n",
       "       [  0. ,   0. ,   1. ,  88. ,  19. ,  73. ],\n",
       "       [  1. ,   0. ,   0. ,  85. ,  16. ,  70. ],\n",
       "       [  1. ,   0. ,   0. ,  90. ,  15. ,  70. ],\n",
       "       [  0. ,   0. ,   1. ,  60. ,  18.8,  80. ],\n",
       "       [  0. ,   1. ,   0. ,  74. ,  15.3,  82. ],\n",
       "       [  0. ,   0. ,   1. ,  92. ,  15. ,  80. ],\n",
       "       [  1. ,   0. ,   0. , 112. ,  14.7,  82. ],\n",
       "       [  1. ,   0. ,   0. , 150. ,  13. ,  71. ],\n",
       "       [  1. ,   0. ,   0. ,  95. ,  16. ,  73. ],\n",
       "       [  0. ,   0. ,   1. ,  67. ,  16.2,  82. ],\n",
       "       [  0. ,   1. ,   0. ,  83. ,  16.5,  74. ],\n",
       "       [  1. ,   0. ,   0. ,  88. ,  18.1,  80. ],\n",
       "       [  1. ,   0. ,   0. ,  90. ,  18. ,  82. ],\n",
       "       [  1. ,   0. ,   0. ,  85. ,  16.6,  81. ],\n",
       "       [  1. ,   0. ,   0. ,  84. ,  16.4,  81. ],\n",
       "       [  0. ,   1. ,   0. , 104. ,  17.3,  80. ],\n",
       "       [  1. ,   0. ,   0. , 130. ,  15. ,  76. ],\n",
       "       [  0. ,   1. ,   0. ,  46. ,  21. ,  73. ],\n",
       "       [  0. ,   1. ,   0. ,  62. ,  15.3,  80. ],\n",
       "       [  0. ,   0. ,   1. ,  65. ,  19.2,  79. ],\n",
       "       [  0. ,   1. ,   0. ,  71. ,  14.9,  78. ],\n",
       "       [  1. ,   0. ,   0. , 145. ,  13.2,  78. ],\n",
       "       [  1. ,   0. ,   0. ,  70. ,  15.5,  80. ],\n",
       "       [  0. ,   0. ,   1. ,  95. ,  15.5,  72. ],\n",
       "       [  1. ,   0. ,   0. ,  60. ,  22.1,  76. ],\n",
       "       [  1. ,   0. ,   0. ,  89. ,  15.8,  77. ],\n",
       "       [  1. ,   0. ,   0. , 125. ,  15. ,  79. ],\n",
       "       [  1. ,   0. ,   0. , 115. ,  12.9,  79. ],\n",
       "       [  1. ,   0. ,   0. ,  79. ,  18.6,  82. ],\n",
       "       [  0. ,   0. ,   1. ,  97. ,  14.5,  77. ],\n",
       "       [  0. ,   0. ,   1. ,  67. ,  18. ,  80. ],\n",
       "       [  1. ,   0. ,   0. , 150. ,  13. ,  79. ],\n",
       "       [  0. ,   0. ,   1. ,  90. ,  13.5,  73. ],\n",
       "       [  1. ,   0. ,   0. ,  95. ,  16.5,  74. ],\n",
       "       [  1. ,   0. ,   0. , 120. ,  15.1,  78. ],\n",
       "       [  1. ,   0. ,   0. , 104. ,  20.5,  82. ],\n",
       "       [  0. ,   0. ,   1. ,  92. ,  17. ,  72. ],\n",
       "       [  0. ,   1. ,   0. ,  48. ,  23.7,  80. ],\n",
       "       [  1. ,   0. ,   0. ,  72. ,  13.6,  76. ],\n",
       "       [  0. ,   1. ,   0. ,  67. ,  16. ,  74. ],\n",
       "       [  1. ,   0. ,   0. , 130. ,  14. ,  72. ],\n",
       "       [  1. ,   0. ,   0. ,  90. ,  18.7,  80. ],\n",
       "       [  1. ,   0. ,   0. , 170. ,  11.5,  75. ],\n",
       "       [  0. ,   1. ,   0. ,  76. ,  18. ,  72. ],\n",
       "       [  1. ,   0. ,   0. , 180. ,  11. ,  73. ],\n",
       "       [  0. ,   0. ,   1. ,  68. ,  18.2,  82. ],\n",
       "       [  1. ,   0. ,   0. ,  92. ,  16.4,  82. ],\n",
       "       [  1. ,   0. ,   0. , 150. ,  12. ,  70. ],\n",
       "       [  1. ,   0. ,   0. ,  70. ,  14.9,  79. ],\n",
       "       [  1. ,   0. ,   0. ,  75. ,  14.5,  74. ],\n",
       "       [  0. ,   1. ,   0. ,  95. ,  17.5,  70. ],\n",
       "       [  1. ,   0. ,   0. , 193. ,  18.5,  70. ],\n",
       "       [  1. ,   0. ,   0. , 105. ,  19.2,  78. ],\n",
       "       [  1. ,   0. ,   0. , 110. ,  12.6,  81. ],\n",
       "       [  1. ,   0. ,   0. , 165. ,  13.4,  78. ],\n",
       "       [  0. ,   0. ,   1. ,  58. ,  16.9,  81. ],\n",
       "       [  1. ,   0. ,   0. ,  78. ,  18.5,  75. ],\n",
       "       [  0. ,   0. ,   1. ,  95. ,  14. ,  71. ],\n",
       "       [  0. ,   0. ,   1. , 120. ,  13.8,  81. ],\n",
       "       [  1. ,   0. ,   0. , 130. ,  12. ,  70. ],\n",
       "       [  0. ,   1. ,   0. , 115. ,  15.7,  78. ],\n",
       "       [  1. ,   0. ,   0. , 158. ,  13. ,  73. ],\n",
       "       [  1. ,   0. ,   0. , 138. ,  13.2,  79. ],\n",
       "       [  0. ,   1. ,   0. ,  95. ,  15. ,  75. ],\n",
       "       [  0. ,   1. ,   0. , 120. ,  16.7,  76. ],\n",
       "       [  1. ,   0. ,   0. ,  86. ,  16.5,  72. ],\n",
       "       [  1. ,   0. ,   0. , 100. ,  17. ,  74. ]])"
      ]
     },
     "execution_count": 19,
     "metadata": {},
     "output_type": "execute_result"
    }
   ],
   "source": [
    "x_test"
   ]
  },
  {
   "cell_type": "code",
   "execution_count": 20,
   "id": "dc5d08f3",
   "metadata": {},
   "outputs": [
    {
     "data": {
      "text/plain": [
       "208    33.5\n",
       "188    15.0\n",
       "12     13.0\n",
       "221    16.0\n",
       "239    14.0\n",
       "       ... \n",
       "76     16.5\n",
       "212    23.0\n",
       "225    16.5\n",
       "255    21.0\n",
       "237    15.0\n",
       "Name: MPG, Length: 90, dtype: float64"
      ]
     },
     "execution_count": 20,
     "metadata": {},
     "output_type": "execute_result"
    }
   ],
   "source": [
    "y_test"
   ]
  },
  {
   "cell_type": "markdown",
   "id": "36235612",
   "metadata": {},
   "source": [
    "## Training the Regression model using Linear Regression"
   ]
  },
  {
   "cell_type": "code",
   "execution_count": 21,
   "id": "a1d1b490",
   "metadata": {},
   "outputs": [
    {
     "data": {
      "text/html": [
       "<style>#sk-container-id-2 {color: black;background-color: white;}#sk-container-id-2 pre{padding: 0;}#sk-container-id-2 div.sk-toggleable {background-color: white;}#sk-container-id-2 label.sk-toggleable__label {cursor: pointer;display: block;width: 100%;margin-bottom: 0;padding: 0.3em;box-sizing: border-box;text-align: center;}#sk-container-id-2 label.sk-toggleable__label-arrow:before {content: \"▸\";float: left;margin-right: 0.25em;color: #696969;}#sk-container-id-2 label.sk-toggleable__label-arrow:hover:before {color: black;}#sk-container-id-2 div.sk-estimator:hover label.sk-toggleable__label-arrow:before {color: black;}#sk-container-id-2 div.sk-toggleable__content {max-height: 0;max-width: 0;overflow: hidden;text-align: left;background-color: #f0f8ff;}#sk-container-id-2 div.sk-toggleable__content pre {margin: 0.2em;color: black;border-radius: 0.25em;background-color: #f0f8ff;}#sk-container-id-2 input.sk-toggleable__control:checked~div.sk-toggleable__content {max-height: 200px;max-width: 100%;overflow: auto;}#sk-container-id-2 input.sk-toggleable__control:checked~label.sk-toggleable__label-arrow:before {content: \"▾\";}#sk-container-id-2 div.sk-estimator input.sk-toggleable__control:checked~label.sk-toggleable__label {background-color: #d4ebff;}#sk-container-id-2 div.sk-label input.sk-toggleable__control:checked~label.sk-toggleable__label {background-color: #d4ebff;}#sk-container-id-2 input.sk-hidden--visually {border: 0;clip: rect(1px 1px 1px 1px);clip: rect(1px, 1px, 1px, 1px);height: 1px;margin: -1px;overflow: hidden;padding: 0;position: absolute;width: 1px;}#sk-container-id-2 div.sk-estimator {font-family: monospace;background-color: #f0f8ff;border: 1px dotted black;border-radius: 0.25em;box-sizing: border-box;margin-bottom: 0.5em;}#sk-container-id-2 div.sk-estimator:hover {background-color: #d4ebff;}#sk-container-id-2 div.sk-parallel-item::after {content: \"\";width: 100%;border-bottom: 1px solid gray;flex-grow: 1;}#sk-container-id-2 div.sk-label:hover label.sk-toggleable__label {background-color: #d4ebff;}#sk-container-id-2 div.sk-serial::before {content: \"\";position: absolute;border-left: 1px solid gray;box-sizing: border-box;top: 0;bottom: 0;left: 50%;z-index: 0;}#sk-container-id-2 div.sk-serial {display: flex;flex-direction: column;align-items: center;background-color: white;padding-right: 0.2em;padding-left: 0.2em;position: relative;}#sk-container-id-2 div.sk-item {position: relative;z-index: 1;}#sk-container-id-2 div.sk-parallel {display: flex;align-items: stretch;justify-content: center;background-color: white;position: relative;}#sk-container-id-2 div.sk-item::before, #sk-container-id-2 div.sk-parallel-item::before {content: \"\";position: absolute;border-left: 1px solid gray;box-sizing: border-box;top: 0;bottom: 0;left: 50%;z-index: -1;}#sk-container-id-2 div.sk-parallel-item {display: flex;flex-direction: column;z-index: 1;position: relative;background-color: white;}#sk-container-id-2 div.sk-parallel-item:first-child::after {align-self: flex-end;width: 50%;}#sk-container-id-2 div.sk-parallel-item:last-child::after {align-self: flex-start;width: 50%;}#sk-container-id-2 div.sk-parallel-item:only-child::after {width: 0;}#sk-container-id-2 div.sk-dashed-wrapped {border: 1px dashed gray;margin: 0 0.4em 0.5em 0.4em;box-sizing: border-box;padding-bottom: 0.4em;background-color: white;}#sk-container-id-2 div.sk-label label {font-family: monospace;font-weight: bold;display: inline-block;line-height: 1.2em;}#sk-container-id-2 div.sk-label-container {text-align: center;}#sk-container-id-2 div.sk-container {/* jupyter's `normalize.less` sets `[hidden] { display: none; }` but bootstrap.min.css set `[hidden] { display: none !important; }` so we also need the `!important` here to be able to override the default hidden behavior on the sphinx rendered scikit-learn.org. See: https://github.com/scikit-learn/scikit-learn/issues/21755 */display: inline-block !important;position: relative;}#sk-container-id-2 div.sk-text-repr-fallback {display: none;}</style><div id=\"sk-container-id-2\" class=\"sk-top-container\"><div class=\"sk-text-repr-fallback\"><pre>LinearRegression()</pre><b>In a Jupyter environment, please rerun this cell to show the HTML representation or trust the notebook. <br />On GitHub, the HTML representation is unable to render, please try loading this page with nbviewer.org.</b></div><div class=\"sk-container\" hidden><div class=\"sk-item\"><div class=\"sk-estimator sk-toggleable\"><input class=\"sk-toggleable__control sk-hidden--visually\" id=\"sk-estimator-id-6\" type=\"checkbox\" checked><label for=\"sk-estimator-id-6\" class=\"sk-toggleable__label sk-toggleable__label-arrow\">LinearRegression</label><div class=\"sk-toggleable__content\"><pre>LinearRegression()</pre></div></div></div></div></div>"
      ],
      "text/plain": [
       "LinearRegression()"
      ]
     },
     "execution_count": 21,
     "metadata": {},
     "output_type": "execute_result"
    }
   ],
   "source": [
    "regressor = LinearRegression()\n",
    "regressor.fit(x_train, y_train)"
   ]
  },
  {
   "cell_type": "code",
   "execution_count": 22,
   "id": "0762a87f",
   "metadata": {},
   "outputs": [
    {
     "data": {
      "text/plain": [
       "array([31.02347829, 12.09113757, 11.11751235, 19.00187049,  4.66253933,\n",
       "       34.77259506, 30.28562166,  6.15368416, 25.54099125, 19.83448076,\n",
       "       32.09592135, 16.80215915, 26.84000808, 26.65720445, 31.0808117 ,\n",
       "       32.0534634 , 26.68597022, 20.77643961, 25.16992816, 21.4993556 ,\n",
       "       24.6175139 , 21.91644258, 12.85929958, 24.98150297, 20.74582193,\n",
       "       20.54147425, 33.36315589, 33.58918059, 30.83078419, 25.4352577 ,\n",
       "       14.02316849, 21.32614994, 34.92956593, 26.65913053, 25.7881763 ,\n",
       "       26.85246489, 27.54350245, 27.77276376, 27.30793757, 19.0008218 ,\n",
       "       28.893483  , 33.92264417, 31.85577627, 31.60812565, 19.10992492,\n",
       "       29.44390042, 25.04081226, 25.11144746, 24.80538133, 21.60713114,\n",
       "       23.94684216, 28.05559688, 28.45996456, 32.79448148, 19.17245443,\n",
       "       27.30175897, 21.73432097, 21.59169957, 23.78410041, 24.73953939,\n",
       "       31.85733291, 27.49398751, 29.055667  , 16.89715825, 25.2354578 ,\n",
       "       14.60297215, 25.61079786, 12.20048615, 33.85254165, 27.33590112,\n",
       "       13.85048717, 29.08282733, 25.37758827, 21.99272306,  4.98130773,\n",
       "       21.68666527, 26.05078459, 16.31442058, 35.17180839, 23.73213504,\n",
       "       25.10362066, 28.25778841, 16.55179562, 25.28846352, 14.22996659,\n",
       "       20.69904362, 26.38847534, 22.85483549, 21.66258828, 20.82350414])"
      ]
     },
     "execution_count": 22,
     "metadata": {},
     "output_type": "execute_result"
    }
   ],
   "source": [
    "# Predicting the Test set results\n",
    "y_pred = regressor.predict(x_test)\n",
    "y_pred"
   ]
  },
  {
   "cell_type": "code",
   "execution_count": 23,
   "id": "7c2fd406",
   "metadata": {},
   "outputs": [
    {
     "name": "stdout",
     "output_type": "stream",
     "text": [
      "Overall Model Accuracy: 0.7234800241016119\n",
      "Mean Squared Error: 17.25800804111719\n"
     ]
    }
   ],
   "source": [
    "# Calculating overall accuracy and mean squared error of the model\n",
    "print(f\"Overall Model Accuracy: {r2_score(y_test,y_pred)}\")\n",
    "print(f\"Mean Squared Error: {mean_squared_error(y_test,y_pred)}\")"
   ]
  },
  {
   "cell_type": "markdown",
   "id": "dfc4f614",
   "metadata": {},
   "source": [
    "## Training the Regression model using Random Forest Regressor"
   ]
  },
  {
   "cell_type": "code",
   "execution_count": 24,
   "id": "45755844",
   "metadata": {},
   "outputs": [
    {
     "data": {
      "text/html": [
       "<style>#sk-container-id-3 {color: black;background-color: white;}#sk-container-id-3 pre{padding: 0;}#sk-container-id-3 div.sk-toggleable {background-color: white;}#sk-container-id-3 label.sk-toggleable__label {cursor: pointer;display: block;width: 100%;margin-bottom: 0;padding: 0.3em;box-sizing: border-box;text-align: center;}#sk-container-id-3 label.sk-toggleable__label-arrow:before {content: \"▸\";float: left;margin-right: 0.25em;color: #696969;}#sk-container-id-3 label.sk-toggleable__label-arrow:hover:before {color: black;}#sk-container-id-3 div.sk-estimator:hover label.sk-toggleable__label-arrow:before {color: black;}#sk-container-id-3 div.sk-toggleable__content {max-height: 0;max-width: 0;overflow: hidden;text-align: left;background-color: #f0f8ff;}#sk-container-id-3 div.sk-toggleable__content pre {margin: 0.2em;color: black;border-radius: 0.25em;background-color: #f0f8ff;}#sk-container-id-3 input.sk-toggleable__control:checked~div.sk-toggleable__content {max-height: 200px;max-width: 100%;overflow: auto;}#sk-container-id-3 input.sk-toggleable__control:checked~label.sk-toggleable__label-arrow:before {content: \"▾\";}#sk-container-id-3 div.sk-estimator input.sk-toggleable__control:checked~label.sk-toggleable__label {background-color: #d4ebff;}#sk-container-id-3 div.sk-label input.sk-toggleable__control:checked~label.sk-toggleable__label {background-color: #d4ebff;}#sk-container-id-3 input.sk-hidden--visually {border: 0;clip: rect(1px 1px 1px 1px);clip: rect(1px, 1px, 1px, 1px);height: 1px;margin: -1px;overflow: hidden;padding: 0;position: absolute;width: 1px;}#sk-container-id-3 div.sk-estimator {font-family: monospace;background-color: #f0f8ff;border: 1px dotted black;border-radius: 0.25em;box-sizing: border-box;margin-bottom: 0.5em;}#sk-container-id-3 div.sk-estimator:hover {background-color: #d4ebff;}#sk-container-id-3 div.sk-parallel-item::after {content: \"\";width: 100%;border-bottom: 1px solid gray;flex-grow: 1;}#sk-container-id-3 div.sk-label:hover label.sk-toggleable__label {background-color: #d4ebff;}#sk-container-id-3 div.sk-serial::before {content: \"\";position: absolute;border-left: 1px solid gray;box-sizing: border-box;top: 0;bottom: 0;left: 50%;z-index: 0;}#sk-container-id-3 div.sk-serial {display: flex;flex-direction: column;align-items: center;background-color: white;padding-right: 0.2em;padding-left: 0.2em;position: relative;}#sk-container-id-3 div.sk-item {position: relative;z-index: 1;}#sk-container-id-3 div.sk-parallel {display: flex;align-items: stretch;justify-content: center;background-color: white;position: relative;}#sk-container-id-3 div.sk-item::before, #sk-container-id-3 div.sk-parallel-item::before {content: \"\";position: absolute;border-left: 1px solid gray;box-sizing: border-box;top: 0;bottom: 0;left: 50%;z-index: -1;}#sk-container-id-3 div.sk-parallel-item {display: flex;flex-direction: column;z-index: 1;position: relative;background-color: white;}#sk-container-id-3 div.sk-parallel-item:first-child::after {align-self: flex-end;width: 50%;}#sk-container-id-3 div.sk-parallel-item:last-child::after {align-self: flex-start;width: 50%;}#sk-container-id-3 div.sk-parallel-item:only-child::after {width: 0;}#sk-container-id-3 div.sk-dashed-wrapped {border: 1px dashed gray;margin: 0 0.4em 0.5em 0.4em;box-sizing: border-box;padding-bottom: 0.4em;background-color: white;}#sk-container-id-3 div.sk-label label {font-family: monospace;font-weight: bold;display: inline-block;line-height: 1.2em;}#sk-container-id-3 div.sk-label-container {text-align: center;}#sk-container-id-3 div.sk-container {/* jupyter's `normalize.less` sets `[hidden] { display: none; }` but bootstrap.min.css set `[hidden] { display: none !important; }` so we also need the `!important` here to be able to override the default hidden behavior on the sphinx rendered scikit-learn.org. See: https://github.com/scikit-learn/scikit-learn/issues/21755 */display: inline-block !important;position: relative;}#sk-container-id-3 div.sk-text-repr-fallback {display: none;}</style><div id=\"sk-container-id-3\" class=\"sk-top-container\"><div class=\"sk-text-repr-fallback\"><pre>RandomForestRegressor(n_estimators=20, random_state=0)</pre><b>In a Jupyter environment, please rerun this cell to show the HTML representation or trust the notebook. <br />On GitHub, the HTML representation is unable to render, please try loading this page with nbviewer.org.</b></div><div class=\"sk-container\" hidden><div class=\"sk-item\"><div class=\"sk-estimator sk-toggleable\"><input class=\"sk-toggleable__control sk-hidden--visually\" id=\"sk-estimator-id-7\" type=\"checkbox\" checked><label for=\"sk-estimator-id-7\" class=\"sk-toggleable__label sk-toggleable__label-arrow\">RandomForestRegressor</label><div class=\"sk-toggleable__content\"><pre>RandomForestRegressor(n_estimators=20, random_state=0)</pre></div></div></div></div></div>"
      ],
      "text/plain": [
       "RandomForestRegressor(n_estimators=20, random_state=0)"
      ]
     },
     "execution_count": 24,
     "metadata": {},
     "output_type": "execute_result"
    }
   ],
   "source": [
    "r_forest = RandomForestRegressor(n_estimators = 20,random_state = 0)\n",
    "r_forest.fit(x_train,y_train)"
   ]
  },
  {
   "cell_type": "code",
   "execution_count": 25,
   "id": "89868eb6",
   "metadata": {},
   "outputs": [
    {
     "data": {
      "text/plain": [
       "array([31.99      , 14.55      , 13.5       , 17.225     , 14.2       ,\n",
       "       35.215     , 32.165     , 13.2       , 25.95      , 18.73333333,\n",
       "       29.055     , 14.1       , 30.55      , 29.85      , 34.925     ,\n",
       "       35.875     , 23.175     , 20.03333333, 24.11      , 21.815     ,\n",
       "       23.21      , 22.55      , 15.275     , 23.775     , 23.84      ,\n",
       "       24.95      , 38.87      , 33.18      , 29.67      , 26.425     ,\n",
       "       14.96666667, 20.6       , 35.935     , 24.85      , 30.285     ,\n",
       "       31.64      , 31.25      , 30.005     , 30.205     , 14.9       ,\n",
       "       27.65      , 34.76      , 37.225     , 30.35      , 16.895     ,\n",
       "       33.945     , 24.125     , 26.825     , 28.185     , 19.235     ,\n",
       "       22.61      , 30.725     , 25.69      , 32.99      , 17.63      ,\n",
       "       25.6       , 20.125     , 18.095     , 26.6       , 24.825     ,\n",
       "       41.95      , 27.395     , 26.9       , 14.79166667, 28.455     ,\n",
       "       13.6       , 25.35      , 13.125     , 34.4       , 27.19      ,\n",
       "       15.05      , 33.54      , 25.385     , 23.67      , 12.1       ,\n",
       "       19.825     , 24.795     , 16.375     , 36.565     , 22.885     ,\n",
       "       23.9       , 22.31      , 14.5       , 21.865     , 12.71666667,\n",
       "       17.825     , 23.975     , 17.27      , 23.405     , 17.725     ])"
      ]
     },
     "execution_count": 25,
     "metadata": {},
     "output_type": "execute_result"
    }
   ],
   "source": [
    "# Predicting the Test set results\n",
    "ry_predict = r_forest.predict(x_test)\n",
    "ry_predict"
   ]
  },
  {
   "cell_type": "code",
   "execution_count": 26,
   "id": "428c19d6",
   "metadata": {},
   "outputs": [
    {
     "name": "stdout",
     "output_type": "stream",
     "text": [
      "Overall Model Accuracy: 0.8058247731041526\n",
      "Mean Squared Error: 12.118754228395055\n"
     ]
    }
   ],
   "source": [
    "# Calculating overall accuracy and mean squared error of the model\n",
    "print(f\"Overall Model Accuracy: {r2_score(y_test,ry_predict)}\")\n",
    "print(f\"Mean Squared Error: {mean_squared_error(y_test,ry_predict)}\")"
   ]
  },
  {
   "cell_type": "code",
   "execution_count": null,
   "id": "afce22c7",
   "metadata": {},
   "outputs": [],
   "source": []
  },
  {
   "cell_type": "code",
   "execution_count": null,
   "id": "1cc65949",
   "metadata": {},
   "outputs": [],
   "source": []
  },
  {
   "cell_type": "code",
   "execution_count": null,
   "id": "85c47aba",
   "metadata": {},
   "outputs": [],
   "source": []
  },
  {
   "cell_type": "code",
   "execution_count": null,
   "id": "ae808350",
   "metadata": {},
   "outputs": [],
   "source": []
  }
 ],
 "metadata": {
  "kernelspec": {
   "display_name": "Python 3 (ipykernel)",
   "language": "python",
   "name": "python3"
  },
  "language_info": {
   "codemirror_mode": {
    "name": "ipython",
    "version": 3
   },
   "file_extension": ".py",
   "mimetype": "text/x-python",
   "name": "python",
   "nbconvert_exporter": "python",
   "pygments_lexer": "ipython3",
   "version": "3.9.7"
  }
 },
 "nbformat": 4,
 "nbformat_minor": 5
}
